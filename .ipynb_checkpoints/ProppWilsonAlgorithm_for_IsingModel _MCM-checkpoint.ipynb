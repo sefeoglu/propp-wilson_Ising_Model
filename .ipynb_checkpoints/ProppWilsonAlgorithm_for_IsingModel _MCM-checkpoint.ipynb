{
 "cells": [
  {
   "cell_type": "markdown",
   "metadata": {},
   "source": [
    "# Propp Wilson Algorithm for the Ferromagnetic Ising Model #"
   ]
  },
  {
   "cell_type": "markdown",
   "metadata": {},
   "source": [
    "<b>Ferromagnetism</b> arises when a collection of atomic spins align such that their associated magnetic moments all point in the same direction, yielding a net magnetic moment which is macroscopic in the size. The simplest  theoretical description of ferromagnetism is called the <b>Ising Model</b>."
   ]
  },
  {
   "cell_type": "markdown",
   "metadata": {},
   "source": [
    "We implemented the <b>2D Ferromagnetic Ising Model</b> using Propp Wilson Algorithms in this project."
   ]
  },
  {
   "cell_type": "markdown",
   "metadata": {},
   "source": [
    "<b>Functions of the Ising Model:</b>"
   ]
  },
  {
   "cell_type": "markdown",
   "metadata": {},
   "source": [
    "* `runIsing(t, state, U):`"
   ]
  },
  {
   "cell_type": "markdown",
   "metadata": {},
   "source": [
    "* `updateState(t, state, U):`"
   ]
  },
  {
   "cell_type": "markdown",
   "metadata": {},
   "source": [
    "* `calcEnergyDiff(i, j, state):`"
   ]
  },
  {
   "cell_type": "markdown",
   "metadata": {},
   "source": [
    "* `InitialState(N):`"
   ]
  },
  {
   "cell_type": "markdown",
   "metadata": {},
   "source": [
    "### Declaration of the libraries used in the program"
   ]
  },
  {
   "cell_type": "code",
   "execution_count": 28,
   "metadata": {},
   "outputs": [
    {
     "name": "stdout",
     "output_type": "stream",
     "text": [
      "\u001b[32m\u001b[1m  Updating\u001b[22m\u001b[39m registry at `~/.julia/registries/General`\n",
      "\u001b[32m\u001b[1m  Updating\u001b[22m\u001b[39m git-repo `https://github.com/JuliaRegistries/General.git`\n",
      "\u001b[?25l\u001b[2K\u001b[?25h"
     ]
    }
   ],
   "source": [
    "using Pkg; Pkg.activate(\".\"); Pkg.instantiate()"
   ]
  },
  {
   "cell_type": "code",
   "execution_count": 29,
   "metadata": {},
   "outputs": [],
   "source": [
    "using Distributions, LinearAlgebra\n",
    "using Plots; pyplot(); default(legendfontsize = 15.0, linewidth = 2.0)\n",
    "using Random"
   ]
  },
  {
   "cell_type": "markdown",
   "metadata": {
    "scrolled": true
   },
   "source": [
    "### Utility Functions"
   ]
  },
  {
   "cell_type": "code",
   "execution_count": 30,
   "metadata": {},
   "outputs": [
    {
     "data": {
      "text/plain": [
       "InitialState (generic function with 1 method)"
      ]
     },
     "execution_count": 30,
     "metadata": {},
     "output_type": "execute_result"
    }
   ],
   "source": [
    "function InitialState(N)  # Generates an initial state with all values fixed to +1 and -1\n",
    "    state = zeros(3, N, N)\n",
    "    for i in 1:N\n",
    "        for j in 1:N\n",
    "            state[1, i, j] = 1\n",
    "            state[2, i, j] = -1\n",
    "        end\n",
    "    end\n",
    "    return state\n",
    "end"
   ]
  },
  {
   "cell_type": "markdown",
   "metadata": {},
   "source": [
    "* Calculate the energy difference"
   ]
  },
  {
   "cell_type": "markdown",
   "metadata": {},
   "source": [
    "<img src=\"is-2.jpg\" width=\"400\" height=\"200\">"
   ]
  },
  {
   "cell_type": "code",
   "execution_count": 31,
   "metadata": {},
   "outputs": [
    {
     "data": {
      "text/plain": [
       "calcEnergyDiff (generic function with 1 method)"
      ]
     },
     "execution_count": 31,
     "metadata": {},
     "output_type": "execute_result"
    }
   ],
   "source": [
    "function calcEnergyDiff(i, j, state)  # Calculate the energy at flipping the vertex at [i,j]\n",
    "    m = size(state, 2)\n",
    "    if i == 1\n",
    "        top = 1\n",
    "    else\n",
    "        top = state[i - 1, j]\n",
    "    end\n",
    "    if i == m\n",
    "        bottom = 1\n",
    "    else\n",
    "        bottom = state[i + 1, j]\n",
    "    end\n",
    "    if j == 1\n",
    "        left = 1\n",
    "    else\n",
    "        left = state[i, j - 1]\n",
    "    end\n",
    "            \n",
    "    if j == m\n",
    "        right = 1\n",
    "    else\n",
    "        right = state[i, j + 1]\n",
    "    end\n",
    "\n",
    "    energy = 2 * state[i, j] * sum([top, bottom, left, right])  # Energy calculated by given formula\n",
    "                \n",
    "    return energy\n",
    "end\n",
    "    \n"
   ]
  },
  {
   "cell_type": "markdown",
   "metadata": {},
   "source": [
    "* Update State for Ising Model"
   ]
  },
  {
   "cell_type": "markdown",
   "metadata": {},
   "source": [
    "k = Boltzmann constant. We assume that k equals to 1.\n",
    "<a href=\"https://www.codecogs.com/eqnedit.php?latex=\\beta&space;=1/kT\" target=\"_blank\"><img src=\"https://latex.codecogs.com/gif.latex?\\beta&space;=1/kT\" title=\"\\beta =1/kT\" /></a>\n"
   ]
  },
  {
   "cell_type": "markdown",
   "metadata": {},
   "source": [
    "* The probability measure:\n",
    "\n",
    "<img src=\"is-1.jpg\" width=\"400\" height=\"200\">\n"
   ]
  },
  {
   "cell_type": "markdown",
   "metadata": {},
   "source": [
    "* Accept and Reject Criteria from Gibbs Sampler:\n",
    "\n",
    "<img src=\"is3.jpg\" width=\"400\" height=\"200\">"
   ]
  },
  {
   "cell_type": "code",
   "execution_count": 1,
   "metadata": {},
   "outputs": [
    {
     "data": {
      "text/plain": [
       "updateState (generic function with 1 method)"
      ]
     },
     "execution_count": 1,
     "metadata": {},
     "output_type": "execute_result"
    }
   ],
   "source": [
    "function updateState(t, state, U,T)\n",
    "    B = 1 / T\n",
    "    E = zeros(3)# Initialize Energy\n",
    "\n",
    "    i = Int(U[2,Int(-t)])  # Picks a random vertex, the same each time the chain runs from 1\n",
    "    j = Int(U[3,Int(-t)])\n",
    "    \n",
    "    for h in 1:3\n",
    "\n",
    "        E[h] =  calcEnergyDiff(i, j, state[h,:,:])  # Find energy under randomly generated flip of each state space separately\n",
    "\n",
    "        u = U[1,Int(-t)]\n",
    "        if state[h, i, j] == 1\n",
    "            u = 1 - u\n",
    "        end\n",
    "        \n",
    "        if u < 0.5 * (1 - tanh(0.5 * B * E[h]))  # condition to accept change, random number is the same each time\n",
    "            state[h, i, j] = -state[h, i, j]\n",
    "            #n[h]=1\n",
    "        else\n",
    "            state[h, i, j] = state[h, i, j]\n",
    "            #n[h]=0\n",
    "        end\n",
    "    end\n",
    "    return state  # returns both states\n",
    "end"
   ]
  },
  {
   "cell_type": "markdown",
   "metadata": {},
   "source": [
    "### Ising Model Function"
   ]
  },
  {
   "cell_type": "code",
   "execution_count": 33,
   "metadata": {},
   "outputs": [
    {
     "data": {
      "text/plain": [
       "runIsing (generic function with 1 method)"
      ]
     },
     "execution_count": 33,
     "metadata": {},
     "output_type": "execute_result"
    }
   ],
   "source": [
    "function runIsing(t, state, U, T)  # Runs chain from the designated starting time until time 0\n",
    "\n",
    "    while t < 0\n",
    "        state = updateState(t, state, U,T)\n",
    "        t += 1\n",
    "    end\n",
    "    return state\n",
    "end"
   ]
  },
  {
   "cell_type": "markdown",
   "metadata": {},
   "source": [
    "## Propp Wilson Algorithm"
   ]
  },
  {
   "cell_type": "markdown",
   "metadata": {},
   "source": [
    "<b>Introduction to Propp Wilson Algorithm</b>\n",
    "\n",
    "The propp-Wilson Algorithm solves two different problems\n",
    "* s' is distributed exactly π (\" perfect simulation \")\n",
    "* The algorithm <b>stops</b> automatically"
   ]
  },
  {
   "cell_type": "markdown",
   "metadata": {},
   "source": [
    "### Pseudocode of the algorithm:\n",
    "\n",
    "<b>1. </b> Set 𝑚 = 1\n",
    "\n",
    "<b>2. </b> For each 𝑠 ∈ 𝑆, simulate the Markov chain starting at time −𝑁𝑚 in state 𝑠 \n",
    "\n",
    "and running up to time 0 using the update function 𝜙 with the sequence 𝑈−𝑁𝑚 +1,𝑈−𝑁𝑚 +2, … ,𝑈−1,𝑈0\n",
    "\n",
    "<b>3. </b> If all 𝑘 chains end up in the same state s at time 0, output s and stop\n",
    "\n",
    "<b>4. </b> Set 𝑚: = 𝑚 + 1 and go to step 2\n",
    "\n",
    "<b>Note:</b> The same sequence 𝑈0,𝑈−1, … is used for all 𝑘 chains.\n"
   ]
  },
  {
   "cell_type": "markdown",
   "metadata": {},
   "source": [
    "<b>Functions in Propp Wilson Algorithm</b>\n",
    "* 1. runProppWilson(N,j):\n",
    "* 2. genRandomness(N,M): \n",
    "* 3. genStartingTimes(j):"
   ]
  },
  {
   "cell_type": "markdown",
   "metadata": {},
   "source": [
    "``genRandomness(N,M)``: generates a sequence of i.i.d. random numbers for Propp-Wilson Algorithm\n",
    "````\n",
    "\n",
    "U0,U1,U2...\n",
    "\n",
    "````"
   ]
  },
  {
   "cell_type": "code",
   "execution_count": 34,
   "metadata": {},
   "outputs": [
    {
     "data": {
      "text/plain": [
       "genRandomness (generic function with 1 method)"
      ]
     },
     "execution_count": 34,
     "metadata": {},
     "output_type": "execute_result"
    }
   ],
   "source": [
    "function genRandomness(N, M)  # generate and store three sets of random numbers\n",
    "    U = zeros(3, M)\n",
    "\n",
    "    U[2,:] = rand(1:N, M) # Random numbners i\n",
    "    U[3,:] = rand(1:N, M)  # Random numbners j\n",
    "    for i in 1:M\n",
    "        U[1,i] = rand()  # Random numbners U\n",
    "    end\n",
    "    return U\n",
    "end"
   ]
  },
  {
   "cell_type": "markdown",
   "metadata": {},
   "source": [
    "``genStartingTimes(j)``: to generate the starting times, the function generates the sequence of the positive numbers like (N1,N2...) = (1,2,4,8)"
   ]
  },
  {
   "cell_type": "code",
   "execution_count": 35,
   "metadata": {},
   "outputs": [
    {
     "data": {
      "text/plain": [
       "genStartingTimes (generic function with 1 method)"
      ]
     },
     "execution_count": 35,
     "metadata": {},
     "output_type": "execute_result"
    }
   ],
   "source": [
    "function genStartingTimes(j)  # Creates starting times, each one is double the previous\n",
    "    M = zeros(j)\n",
    "    M[2] = 1\n",
    "    for x in 3:j\n",
    "        M[x] = 2 * M[x - 1]\n",
    "    end       \n",
    "    return M\n",
    "end"
   ]
  },
  {
   "cell_type": "markdown",
   "metadata": {},
   "source": [
    "\n",
    "* Propp Wilson Algorithm call the Ising model to run chain from the designated starting time until time 0 after each magnetization\n",
    " "
   ]
  },
  {
   "cell_type": "markdown",
   "metadata": {},
   "source": [
    "<b>Magnetization Formula</b> :\n"
   ]
  },
  {
   "cell_type": "code",
   "execution_count": 36,
   "metadata": {},
   "outputs": [
    {
     "data": {
      "text/plain": [
       "runProppWilson (generic function with 1 method)"
      ]
     },
     "execution_count": 36,
     "metadata": {},
     "output_type": "execute_result"
    }
   ],
   "source": [
    "function runProppWilson(N,j,T)\n",
    "    M = genStartingTimes(j)# negative integers (-1,-2,-4,-8)\n",
    "    U = genRandomness(N, 1)# U1,U2,U3...\n",
    "    state = InitialState(N)\n",
    "    m=2\n",
    "    before = InitialState(N)\n",
    "    while state[1,:,:] != state[2,:,:]  # Condition for termination: both state spaces are the same\n",
    "        \n",
    "        U = hcat(U,genRandomness(N, Int(M[m] - M[m-1]))) # Generates more random numbers when necessary\n",
    "        \n",
    "        magnetization = sum([sum(i) for i in state[1,:,:]])-sum([sum(i) for i in state[2,:,:]])\n",
    "        \n",
    "        println(\"magnetization= \",magnetization, \"round= \", m-1)\n",
    "        state = runIsing(-Int(M[m]), state,U, T)\n",
    "        m += 1  # If states are not the same, goes to the next starting time\n",
    "        if state[1,:,:] != state[2,:,:]\n",
    "            before[2,:,:] = state[2,:,:]\n",
    "        end\n",
    "    end\n",
    "    return state[1,:,:], before[2,:,:]\n",
    "end"
   ]
  },
  {
   "cell_type": "markdown",
   "metadata": {},
   "source": [
    "## Graph ##"
   ]
  },
  {
   "cell_type": "markdown",
   "metadata": {},
   "source": [
    "* Main Program  and Visualisation of the Result\n",
    "* This Graph function below call the ProppWilson Algorithm.\n"
   ]
  },
  {
   "cell_type": "markdown",
   "metadata": {},
   "source": [
    "* Python code for simulation"
   ]
  },
  {
   "cell_type": "code",
   "execution_count": 10,
   "metadata": {},
   "outputs": [],
   "source": [
    "#Pkg.build(\"PyCall\")"
   ]
  },
  {
   "cell_type": "code",
   "execution_count": 37,
   "metadata": {},
   "outputs": [],
   "source": [
    "using PyCall"
   ]
  },
  {
   "cell_type": "code",
   "execution_count": 38,
   "metadata": {},
   "outputs": [],
   "source": [
    "py\"\"\"\n",
    "import random\n",
    "import numpy as np\n",
    "from numpy.random import rand\n",
    "import matplotlib\n",
    "\n",
    "import matplotlib.pyplot as plt\n",
    "def Graph(state, T):\n",
    "    S = state.shape[1]  # Takes the size of the matrix\n",
    "    print(\"Plotting!\")\n",
    "    for i in range(S):\n",
    "        for j in range(S):\n",
    "            if state[i][j] == 1:  # Graphs a red + if the matrix entry is positive\n",
    "                plt.scatter(j, S - 1 - i, c='r', marker=',', )#s=(150,))\n",
    "            elif state[i][j] == -1:  # Graphs a blue minus is the matrix is negative\n",
    "                plt.scatter(j, S - 1 - i, c='b', marker=',', )#s=(150,))\n",
    "    plt.title(\"Sample, T=%d\" % (T) )\n",
    "    print(\"Done!\")\n",
    "    plt.show()\n",
    "\"\"\""
   ]
  },
  {
   "cell_type": "code",
   "execution_count": 13,
   "metadata": {},
   "outputs": [
    {
     "data": {
      "text/plain": [
       "Graph (generic function with 1 method)"
      ]
     },
     "execution_count": 13,
     "metadata": {},
     "output_type": "execute_result"
    }
   ],
   "source": [
    "function Graph(N, j, T)\n",
    "    state, = runProppWilson(N, j,T)\n",
    "    py\"Graph\"(state,T)\n",
    "end\n"
   ]
  },
  {
   "cell_type": "code",
   "execution_count": 43,
   "metadata": {},
   "outputs": [
    {
     "name": "stdout",
     "output_type": "stream",
     "text": [
      "magnetization= 200.0round= 1\n",
      "magnetization= 200.0round= 2\n",
      "magnetization= 200.0round= 3\n",
      "magnetization= 198.0round= 4\n",
      "magnetization= 196.0round= 5\n",
      "magnetization= 194.0round= 6\n",
      "magnetization= 192.0round= 7\n",
      "magnetization= 184.0round= 8\n",
      "magnetization= 164.0round= 9\n",
      "magnetization= 144.0round= 10\n",
      "magnetization= 112.0round= 11\n",
      "magnetization= 70.0round= 12\n",
      "magnetization= 6.0round= 13\n"
     ]
    },
    {
     "data": {
      "text/plain": [
       "([1.0 1.0 … 1.0 1.0; 1.0 1.0 … 1.0 1.0; … ; 1.0 1.0 … 1.0 1.0; 1.0 1.0 … 1.0 1.0], [1.0 1.0 … 1.0 1.0; 1.0 1.0 … 1.0 1.0; … ; 1.0 1.0 … 1.0 1.0; 1.0 1.0 … 1.0 1.0])"
      ]
     },
     "execution_count": 43,
     "metadata": {},
     "output_type": "execute_result"
    }
   ],
   "source": [
    "state, before = runProppWilson(10,20,2)"
   ]
  },
  {
   "cell_type": "markdown",
   "metadata": {},
   "source": [
    "* Last State of Magnetization"
   ]
  },
  {
   "cell_type": "code",
   "execution_count": 44,
   "metadata": {},
   "outputs": [
    {
     "data": {
      "image/png": "[encoded data removed]",
      "text/plain": [
       "PyPlot.Figure(PyObject <Figure size 640x480 with 1 Axes>)"
      ]
     },
     "metadata": {},
     "output_type": "display_data"
    }
   ],
   "source": [
    "py\"Graph\"(state,2)"
   ]
  },
  {
   "cell_type": "markdown",
   "metadata": {},
   "source": [
    "The State of Ising Model before the laste"
   ]
  },
  {
   "cell_type": "code",
   "execution_count": 45,
   "metadata": {},
   "outputs": [
    {
     "data": {
      "image/png": "[encoded data removed]",
      "text/plain": [
       "PyPlot.Figure(PyObject <Figure size 640x480 with 1 Axes>)"
      ]
     },
     "metadata": {},
     "output_type": "display_data"
    }
   ],
   "source": [
    "py\"Graph\"(before,2)"
   ]
  },
  {
   "cell_type": "code",
   "execution_count": 47,
   "metadata": {},
   "outputs": [
    {
     "name": "stdout",
     "output_type": "stream",
     "text": [
      "magnetization= 800.0round= 1\n",
      "magnetization= 800.0round= 2\n",
      "magnetization= 800.0round= 3\n",
      "magnetization= 800.0round= 4\n",
      "magnetization= 800.0round= 5\n",
      "magnetization= 800.0round= 6\n",
      "magnetization= 800.0round= 7\n",
      "magnetization= 796.0round= 8\n",
      "magnetization= 792.0round= 9\n",
      "magnetization= 778.0round= 10\n",
      "magnetization= 752.0round= 11\n",
      "magnetization= 726.0round= 12\n",
      "magnetization= 680.0round= 13\n",
      "magnetization= 530.0round= 14\n",
      "magnetization= 404.0round= 15\n",
      "magnetization= 256.0round= 16\n",
      "magnetization= 234.0round= 17\n"
     ]
    },
    {
     "data": {
      "text/plain": [
       "([-1.0 -1.0 … 1.0 1.0; 1.0 1.0 … -1.0 1.0; … ; 1.0 1.0 … 1.0 1.0; 1.0 1.0 … 1.0 1.0], [-1.0 -1.0 … 1.0 1.0; 1.0 1.0 … -1.0 1.0; … ; 1.0 1.0 … 1.0 1.0; 1.0 1.0 … 1.0 1.0])"
      ]
     },
     "execution_count": 47,
     "metadata": {},
     "output_type": "execute_result"
    }
   ],
   "source": [
    "state, before = runProppWilson(20,30,2)"
   ]
  },
  {
   "cell_type": "code",
   "execution_count": 48,
   "metadata": {},
   "outputs": [
    {
     "data": {
      "image/png": "[encoded data removed]",
      "text/plain": [
       "PyPlot.Figure(PyObject <Figure size 640x480 with 1 Axes>)"
      ]
     },
     "metadata": {},
     "output_type": "display_data"
    }
   ],
   "source": [
    "py\"Graph\"(state,2)"
   ]
  },
  {
   "cell_type": "code",
   "execution_count": 49,
   "metadata": {},
   "outputs": [
    {
     "data": {
      "image/png": "[encoded data removed]",
      "text/plain": [
       "PyPlot.Figure(PyObject <Figure size 640x480 with 1 Axes>)"
      ]
     },
     "metadata": {},
     "output_type": "display_data"
    }
   ],
   "source": [
    "py\"Graph\"(before,2)"
   ]
  },
  {
   "cell_type": "code",
   "execution_count": 46,
   "metadata": {},
   "outputs": [
    {
     "name": "stdout",
     "output_type": "stream",
     "text": [
      "magnetization= 5000.0round= 1\n",
      "magnetization= 5000.0round= 2\n",
      "magnetization= 5000.0round= 3\n",
      "magnetization= 5000.0round= 4\n",
      "magnetization= 5000.0round= 5\n",
      "magnetization= 4998.0round= 6\n",
      "magnetization= 4998.0round= 7\n",
      "magnetization= 4996.0round= 8\n",
      "magnetization= 4990.0round= 9\n",
      "magnetization= 4984.0round= 10\n",
      "magnetization= 4958.0round= 11\n",
      "magnetization= 4918.0round= 12\n",
      "magnetization= 4830.0round= 13\n",
      "magnetization= 4672.0round= 14\n",
      "magnetization= 4476.0round= 15\n",
      "magnetization= 4254.0round= 16\n",
      "magnetization= 4124.0round= 17\n",
      "magnetization= 3692.0round= 18\n",
      "magnetization= 3410.0round= 19\n",
      "magnetization= 3082.0round= 20\n",
      "magnetization= 2760.0round= 21\n",
      "magnetization= "
     ]
    },
    {
     "data": {
      "image/png": "[encoded data removed]",
      "text/plain": [
       "PyPlot.Figure(PyObject <Figure size 640x480 with 1 Axes>)"
      ]
     },
     "metadata": {},
     "output_type": "display_data"
    },
    {
     "name": "stdout",
     "output_type": "stream",
     "text": [
      "2316.0round= 22\n"
     ]
    }
   ],
   "source": [
    "T = 2\n",
    "Graph(40,50,T)"
   ]
  },
  {
   "cell_type": "markdown",
   "metadata": {},
   "source": [
    "* Show Results\n",
    "Run the program with the parameter below."
   ]
  },
  {
   "cell_type": "code",
   "execution_count": 50,
   "metadata": {},
   "outputs": [
    {
     "name": "stdout",
     "output_type": "stream",
     "text": [
      "magnetization= 800.0round= 1\n",
      "magnetization= 800.0round= 2\n",
      "magnetization= 800.0round= 3\n",
      "magnetization= 800.0round= 4\n",
      "magnetization= 798.0round= 5\n",
      "magnetization= 798.0round= 6\n",
      "magnetization= 796.0round= 7\n",
      "magnetization= 790.0round= 8\n",
      "magnetization= 784.0round= 9\n",
      "magnetization= 778.0round= 10\n",
      "magnetization= 768.0round= 11\n",
      "magnetization= 728.0round= 12\n",
      "magnetization= 666.0round= 13\n",
      "magnetization= 566.0round= 14\n",
      "magnetization= 418.0round= 15\n",
      "magnetization= 210.0round= 16\n"
     ]
    },
    {
     "data": {
      "image/png": "[encoded data removed]",
      "text/plain": [
       "PyPlot.Figure(PyObject <Figure size 640x480 with 1 Axes>)"
      ]
     },
     "metadata": {},
     "output_type": "display_data"
    },
    {
     "name": "stdout",
     "output_type": "stream",
     "text": [
      "magnetization= 96.0round= 17\n"
     ]
    }
   ],
   "source": [
    "T = 2\n",
    "Graph(20,50,T)"
   ]
  },
  {
   "cell_type": "code",
   "execution_count": 51,
   "metadata": {},
   "outputs": [
    {
     "name": "stdout",
     "output_type": "stream",
     "text": [
      "magnetization= 3200.0round= 1\n",
      "magnetization= 3200.0round= 2\n",
      "magnetization= 3198.0round= 3\n",
      "magnetization= 3196.0round= 4\n",
      "magnetization= 3194.0round= 5\n",
      "magnetization= 3186.0round= 6\n",
      "magnetization= 3176.0round= 7\n",
      "magnetization= 3150.0round= 8\n",
      "magnetization= 3106.0round= 9\n",
      "magnetization= 3024.0round= 10\n",
      "magnetization= 2838.0round= 11\n",
      "magnetization= 2536.0round= 12\n",
      "magnetization= 1962.0round= 13\n",
      "magnetization= 1080.0round= 14\n",
      "magnetization= 264.0round= 15\n"
     ]
    },
    {
     "data": {
      "image/png": "[encoded data removed]",
      "text/plain": [
       "PyPlot.Figure(PyObject <Figure size 640x480 with 1 Axes>)"
      ]
     },
     "metadata": {},
     "output_type": "display_data"
    },
    {
     "name": "stdout",
     "output_type": "stream",
     "text": [
      "magnetization= 12.0round= 16\n"
     ]
    }
   ],
   "source": [
    "T = 5 # Temperature\n",
    "Graph(40,50,T) # N=40, M=50\n"
   ]
  },
  {
   "cell_type": "code",
   "execution_count": 52,
   "metadata": {},
   "outputs": [
    {
     "name": "stdout",
     "output_type": "stream",
     "text": [
      "magnetization= 1800.0round= 1\n",
      "magnetization= 1800.0round= 2\n",
      "magnetization= 1800.0round= 3\n",
      "magnetization= 1800.0round= 4\n",
      "magnetization= 1800.0round= 5\n",
      "magnetization= 1800.0round= 6\n",
      "magnetization= 1800.0round= 7\n",
      "magnetization= 1792.0round= 8\n",
      "magnetization= 1778.0round= 9\n",
      "magnetization= 1776.0round= 10\n",
      "magnetization= 1760.0round= 11\n",
      "magnetization= 1712.0round= 12\n",
      "magnetization= 1624.0round= 13\n",
      "magnetization= 1466.0round= 14\n",
      "magnetization= 1360.0round= 15\n",
      "magnetization= 1246.0round= 16\n",
      "magnetization= 1042.0round= 17\n",
      "magnetization= 774.0round= 18\n"
     ]
    },
    {
     "data": {
      "image/png": "[encoded data removed]",
      "text/plain": [
       "PyPlot.Figure(PyObject <Figure size 640x480 with 1 Axes>)"
      ]
     },
     "metadata": {},
     "output_type": "display_data"
    },
    {
     "name": "stdout",
     "output_type": "stream",
     "text": [
      "magnetization= 484.0round= 19\n"
     ]
    }
   ],
   "source": [
    "T = 2\n",
    "Graph(30,40,T)"
   ]
  },
  {
   "cell_type": "code",
   "execution_count": null,
   "metadata": {},
   "outputs": [
    {
     "name": "stdout",
     "output_type": "stream",
     "text": [
      "magnetization= 39200.0round= 1\n",
      "magnetization= 39200.0round= 2\n",
      "magnetization= 39200.0round= 3\n",
      "magnetization= 39198.0round= 4\n",
      "magnetization= 39198.0round= 5\n",
      "magnetization= 39198.0round= 6\n",
      "magnetization= 39198.0round= 7\n",
      "magnetization= 39194.0round= 8\n",
      "magnetization= 39186.0round= 9\n",
      "magnetization= 39168.0round= 10\n",
      "magnetization= 39158.0round= 11\n",
      "magnetization= 39128.0round= 12\n",
      "magnetization= 39044.0round= 13\n",
      "magnetization= 38896.0round= 14\n",
      "magnetization= 38650.0round= 15\n",
      "magnetization= 38176.0round= 16\n",
      "magnetization= 37432.0round= 17\n",
      "magnetization= 36438.0round= 18\n",
      "magnetization= 35166.0round= 19\n",
      "magnetization= 34480.0round= 20\n",
      "magnetization= 33952.0round= 21\n",
      "magnetization= 33368.0round= 22\n"
     ]
    }
   ],
   "source": [
    "T = 2\n",
    "Graph(140,150,T)"
   ]
  },
  {
   "cell_type": "code",
   "execution_count": null,
   "metadata": {},
   "outputs": [],
   "source": [
    "state, before = runProppWilson(30,20,2)"
   ]
  },
  {
   "cell_type": "code",
   "execution_count": null,
   "metadata": {},
   "outputs": [],
   "source": [
    "py\"Graph\"(before,2)"
   ]
  },
  {
   "cell_type": "code",
   "execution_count": null,
   "metadata": {},
   "outputs": [],
   "source": [
    "py\"Graph\"(state,2)"
   ]
  }
 ],
 "metadata": {
  "kernelspec": {
   "display_name": "Julia 1.1.0",
   "language": "julia",
   "name": "julia-1.1"
  },
  "language_info": {
   "file_extension": ".jl",
   "mimetype": "application/julia",
   "name": "julia",
   "version": "1.1.0"
  }
 },
 "nbformat": 4,
 "nbformat_minor": 2
}
