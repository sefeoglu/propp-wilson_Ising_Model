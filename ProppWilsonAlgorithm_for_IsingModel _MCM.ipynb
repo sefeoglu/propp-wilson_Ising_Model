{
 "cells": [
  {
   "cell_type": "markdown",
   "metadata": {},
   "source": [
    "## The Ferromagnetic Ising model ##"
   ]
  },
  {
   "cell_type": "markdown",
   "metadata": {},
   "source": [
    "* Libraries"
   ]
  },
  {
   "cell_type": "code",
   "execution_count": 1,
   "metadata": {},
   "outputs": [
    {
     "name": "stdout",
     "output_type": "stream",
     "text": [
      "\u001b[32m\u001b[1m  Updating\u001b[22m\u001b[39m registry at `~/.julia/registries/General`\n",
      "\u001b[32m\u001b[1m  Updating\u001b[22m\u001b[39m git-repo `https://github.com/JuliaRegistries/General.git`\n",
      "\u001b[2K\u001b[?25h[1mFetching:\u001b[22m\u001b[39m [========================================>]  100.0 %.0 %\u001b[32m\u001b[1m Resolving\u001b[22m\u001b[39m package versions...\n"
     ]
    }
   ],
   "source": [
    "using Pkg; Pkg.activate(\".\"); Pkg.instantiate()"
   ]
  },
  {
   "cell_type": "code",
   "execution_count": 2,
   "metadata": {},
   "outputs": [],
   "source": [
    "using Distributions, LinearAlgebra\n",
    "using Plots; pyplot(); default(legendfontsize = 15.0, linewidth = 2.0)\n",
    "using Random"
   ]
  },
  {
   "cell_type": "markdown",
   "metadata": {
    "scrolled": true
   },
   "source": [
    "* InitialState is checked"
   ]
  },
  {
   "cell_type": "code",
   "execution_count": 3,
   "metadata": {},
   "outputs": [
    {
     "data": {
      "text/plain": [
       "InitialState (generic function with 1 method)"
      ]
     },
     "execution_count": 3,
     "metadata": {},
     "output_type": "execute_result"
    }
   ],
   "source": [
    "function InitialState(N)  # Generates an initial state with all values fixed to +1 and -1\n",
    "    state = zeros(3, N, N)\n",
    "    for i in 1:N\n",
    "        for j in 1:N\n",
    "            state[1, i, j] = 1\n",
    "            state[2, i, j] = -1\n",
    "        end\n",
    "    end\n",
    "    return state\n",
    "end"
   ]
  },
  {
   "cell_type": "markdown",
   "metadata": {},
   "source": [
    "* Calculate the energy difference"
   ]
  },
  {
   "cell_type": "code",
   "execution_count": 4,
   "metadata": {},
   "outputs": [
    {
     "data": {
      "text/plain": [
       "calcEnergyDiff (generic function with 1 method)"
      ]
     },
     "execution_count": 4,
     "metadata": {},
     "output_type": "execute_result"
    }
   ],
   "source": [
    "function calcEnergyDiff(i, j, state)  # Calculate the energy at flipping the vertex at [i,j]\n",
    "    m = size(state, 2)\n",
    "    if i == 1\n",
    "        top = 1\n",
    "    else\n",
    "        top = state[i - 1, j]\n",
    "    end\n",
    "    if i == m\n",
    "        bottom = 1\n",
    "    else\n",
    "        bottom = state[i + 1, j]\n",
    "    end\n",
    "    if j == 1\n",
    "        left = 1\n",
    "    else\n",
    "        left = state[i, j - 1]\n",
    "    end\n",
    "            \n",
    "    if j == m\n",
    "        right = 1\n",
    "    else\n",
    "        right = state[i, j + 1]\n",
    "    end\n",
    "\n",
    "    energy = 2 * state[i,j] * sum([top, bottom, left, right])  # Energy calculated by given formula\n",
    "                \n",
    "    return energy\n",
    "end\n",
    "    \n"
   ]
  },
  {
   "cell_type": "markdown",
   "metadata": {},
   "source": [
    "* Update State for Ising Model"
   ]
  },
  {
   "cell_type": "code",
   "execution_count": 5,
   "metadata": {},
   "outputs": [
    {
     "data": {
      "text/plain": [
       "updateState (generic function with 1 method)"
      ]
     },
     "execution_count": 5,
     "metadata": {},
     "output_type": "execute_result"
    }
   ],
   "source": [
    "function updateState(t, state, U)\n",
    "    B = 1 / T\n",
    "    E = zeros(3)\n",
    "\n",
    "    i = Int(U[2,Int(-t)])  # Picks a random vertex, the same each time the chain runs from 0\n",
    "    j = Int(U[3,Int(-t)])\n",
    "    if U[2,-t] == 0.0\n",
    "\n",
    "    end\n",
    "    for h in 1:3\n",
    "\n",
    "        E[h] =  calcEnergyDiff(i, j, state[h,:,:])  # Find energy under randomly generated flip of each state space separately\n",
    "\n",
    "        u = U[1,Int(-t)]\n",
    "        if state[h, i, j] == 1\n",
    "            u = 1 - u\n",
    "        end\n",
    "        if u < 0.5 * (1 - tanh(0.5 * B * E[h]))  # condition to accept change, random number is the same each time\n",
    "            state[h, i, j] = -state[h,i,j]\n",
    "            #n[h]=1\n",
    "        else\n",
    "            state[h, i, j] = state[h, i, j]\n",
    "            #n[h]=0\n",
    "        end\n",
    "    end\n",
    "\n",
    "\n",
    "    return state  # returns both states\n",
    "end"
   ]
  },
  {
   "cell_type": "markdown",
   "metadata": {},
   "source": [
    "* Run Ising Model"
   ]
  },
  {
   "cell_type": "code",
   "execution_count": 6,
   "metadata": {},
   "outputs": [
    {
     "data": {
      "text/plain": [
       "runIsing (generic function with 1 method)"
      ]
     },
     "execution_count": 6,
     "metadata": {},
     "output_type": "execute_result"
    }
   ],
   "source": [
    "function runIsing(t, state, U)  # Runs chain from the designated starting time until time 0\n",
    "\n",
    "    while t < 0\n",
    "        state = updateState(t, state, U)\n",
    "        t += 1\n",
    "    end\n",
    "    return state\n",
    "end"
   ]
  },
  {
   "cell_type": "markdown",
   "metadata": {},
   "source": [
    "## Propp Wilson Algorithm"
   ]
  },
  {
   "cell_type": "markdown",
   "metadata": {},
   "source": [
    "* Generate and store random numbers"
   ]
  },
  {
   "cell_type": "code",
   "execution_count": 7,
   "metadata": {},
   "outputs": [
    {
     "data": {
      "text/plain": [
       "genRandomness (generic function with 1 method)"
      ]
     },
     "execution_count": 7,
     "metadata": {},
     "output_type": "execute_result"
    }
   ],
   "source": [
    "function genRandomness(N, M)  # generate and store three sets of random numbers\n",
    "    U = zeros(3, M)\n",
    "\n",
    "    U[2,:] = rand(1:N, M) # Random numbners i\n",
    "    U[3,:] = rand(1:N, M)  # Random numbners j\n",
    "    for i in 1:M\n",
    "        U[1,i] = rand()  # Random numbners U\n",
    "    end\n",
    "    println(size(U))\n",
    "    return U\n",
    "end"
   ]
  },
  {
   "cell_type": "code",
   "execution_count": 8,
   "metadata": {},
   "outputs": [
    {
     "name": "stdout",
     "output_type": "stream",
     "text": [
      "(3, 4)\n"
     ]
    },
    {
     "data": {
      "text/plain": [
       "3×4 Array{Float64,2}:\n",
       "  0.820278   0.504889   0.522816   0.6426\n",
       " 25.0       34.0       15.0       45.0   \n",
       " 10.0       37.0       16.0        8.0   "
      ]
     },
     "execution_count": 8,
     "metadata": {},
     "output_type": "execute_result"
    }
   ],
   "source": [
    "genRandomness(50,4)"
   ]
  },
  {
   "cell_type": "markdown",
   "metadata": {},
   "source": [
    "* Generate starting times"
   ]
  },
  {
   "cell_type": "code",
   "execution_count": 9,
   "metadata": {},
   "outputs": [
    {
     "data": {
      "text/plain": [
       "genStartingTimes (generic function with 1 method)"
      ]
     },
     "execution_count": 9,
     "metadata": {},
     "output_type": "execute_result"
    }
   ],
   "source": [
    "function genStartingTimes(j)  # Creates starting times, each one is double the previous\n",
    "    M = zeros(j)\n",
    "    M[2] = 1\n",
    "    for x in 3:j\n",
    "        M[x] = 2 * M[x - 1]\n",
    "    end       \n",
    "    return M\n",
    "end"
   ]
  },
  {
   "cell_type": "markdown",
   "metadata": {},
   "source": [
    "* Propp Wilson Algorithm"
   ]
  },
  {
   "cell_type": "code",
   "execution_count": 36,
   "metadata": {},
   "outputs": [
    {
     "data": {
      "text/plain": [
       "runProppWilson (generic function with 1 method)"
      ]
     },
     "execution_count": 36,
     "metadata": {},
     "output_type": "execute_result"
    }
   ],
   "source": [
    "function runProppWilson(N,j)\n",
    "    M = genStartingTimes(j)\n",
    "    U = genRandomness(N, 1)\n",
    "    state = InitialState(N)\n",
    "    m=2\n",
    "    while state[1] != state[2]  # Condition for termination: both state spaces are the same\n",
    "        U = hcat(U,genRandomness(N, Int(M[m] - M[m-1]))) # Generates more random numbers when necessary\n",
    "        magnetization = sum([sum(i) for i in state[1]])-sum([sum(i) for i in state[2]])\n",
    "        println(\"magnetization= \",magnetization, \"round= \", m)\n",
    "        state = runIsing(-Int(M[m]), state,U )\n",
    "        m += 1  # If states are not the same, goes to the next starting time\n",
    "    end\n",
    "    return state[1,:,:]\n",
    "end"
   ]
  },
  {
   "cell_type": "code",
   "execution_count": 122,
   "metadata": {},
   "outputs": [
    {
     "data": {
      "text/plain": [
       "Plots.GRBackend()"
      ]
     },
     "execution_count": 122,
     "metadata": {},
     "output_type": "execute_result"
    }
   ],
   "source": [
    "using Plots\n",
    "pyplot()\n",
    "\n",
    "gr() # We will continue onward using the GR backend\n"
   ]
  },
  {
   "cell_type": "markdown",
   "metadata": {},
   "source": [
    "## Graph ##"
   ]
  },
  {
   "cell_type": "code",
   "execution_count": 118,
   "metadata": {},
   "outputs": [
    {
     "data": {
      "text/plain": [
       "Graph (generic function with 1 method)"
      ]
     },
     "execution_count": 118,
     "metadata": {},
     "output_type": "execute_result"
    }
   ],
   "source": [
    "function Graph(N, j)\n",
    "    state = runProppWilson(N, j)\n",
    "    println(size(state))\n",
    "    S = size(state)[2]  # Takes the size of the matrix\n",
    "    println(\"Plotting!\")\n",
    "    count1 = 0 \n",
    "    count2 = 0\n",
    "    for i in 1:S\n",
    "        for j in 1:S\n",
    "            if state[i,j] == 1  # Graphs a red + if the matrix entry is positive\n",
    "                count1+=1\n",
    "            elseif state[i,j] == -1\n",
    "                count2 = count2+1\n",
    "            end\n",
    "        end\n",
    "    end\n",
    "    println(count1)\n",
    "    println(count2)\n",
    "end\n"
   ]
  },
  {
   "cell_type": "markdown",
   "metadata": {},
   "source": [
    "* Show Results"
   ]
  },
  {
   "cell_type": "code",
   "execution_count": 121,
   "metadata": {},
   "outputs": [
    {
     "name": "stdout",
     "output_type": "stream",
     "text": [
      "(3, 1)\n",
      "(3, 1)\n",
      "magnetization= 2.0round= 2\n",
      "(3, 1)\n",
      "magnetization= 2.0round= 3\n",
      "(3, 2)\n",
      "magnetization= 2.0round= 4\n",
      "(3, 4)\n",
      "magnetization= 2.0round= 5\n",
      "(3, 8)\n",
      "magnetization= 2.0round= 6\n",
      "(3, 16)\n",
      "magnetization= 2.0round= 7\n",
      "(3, 32)\n",
      "magnetization= 2.0round= 8\n",
      "(3, 64)\n",
      "magnetization= 2.0round= 9\n",
      "(3, 128)\n",
      "magnetization= 2.0round= 10\n",
      "(3, 256)\n",
      "magnetization= 2.0round= 11\n",
      "(3, 512)\n",
      "magnetization= 2.0round= 12\n",
      "(50, 50)\n",
      "Plotting!\n",
      "2485\n",
      "15\n"
     ]
    }
   ],
   "source": [
    "T = 2  # Temperature\n",
    "Graph(50, 40) # Obtain a sample in a N x N grid\n"
   ]
  }
 ],
 "metadata": {
  "kernelspec": {
   "display_name": "Julia 1.1.0",
   "language": "julia",
   "name": "julia-1.1"
  },
  "language_info": {
   "file_extension": ".jl",
   "mimetype": "application/julia",
   "name": "julia",
   "version": "1.1.0"
  }
 },
 "nbformat": 4,
 "nbformat_minor": 2
}
