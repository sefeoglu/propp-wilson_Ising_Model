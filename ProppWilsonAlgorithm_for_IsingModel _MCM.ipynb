{
 "cells": [
  {
   "cell_type": "markdown",
   "metadata": {},
   "source": [
    "# Propp Wilson Algorithm for the Ferromagnetic Ising Model #"
   ]
  },
  {
   "cell_type": "markdown",
   "metadata": {},
   "source": [
    "<b>1.</b> Ferromagnetic Model:"
   ]
  },
  {
   "cell_type": "markdown",
   "metadata": {},
   "source": [
    "<b>2.</b> Ising Model:"
   ]
  },
  {
   "cell_type": "markdown",
   "metadata": {},
   "source": [
    "<b>Functions of the Ising Model:</b>\n",
    "* `runIsing(t, state, U):`\n",
    "\n",
    "* `updateState(t, state, U):`\n",
    "\n",
    "* `calcEnergyDiff(i, j, state):`\n",
    "\n",
    "* `InitialState(N):`"
   ]
  },
  {
   "cell_type": "markdown",
   "metadata": {},
   "source": [
    "### Declaration of the libraries used in the program"
   ]
  },
  {
   "cell_type": "code",
   "execution_count": 1,
   "metadata": {},
   "outputs": [
    {
     "name": "stdout",
     "output_type": "stream",
     "text": [
      "\u001b[32m\u001b[1m  Updating\u001b[22m\u001b[39m registry at `~/.julia/registries/General`\n",
      "\u001b[32m\u001b[1m  Updating\u001b[22m\u001b[39m git-repo `https://github.com/JuliaRegistries/General.git`\n",
      "\u001b[?25l\u001b[2K\u001b[?25h"
     ]
    }
   ],
   "source": [
    "using Pkg; Pkg.activate(\".\"); Pkg.instantiate()"
   ]
  },
  {
   "cell_type": "code",
   "execution_count": 2,
   "metadata": {},
   "outputs": [],
   "source": [
    "using Distributions, LinearAlgebra\n",
    "using Plots; pyplot(); default(legendfontsize = 15.0, linewidth = 2.0)\n",
    "using Random"
   ]
  },
  {
   "cell_type": "markdown",
   "metadata": {
    "scrolled": true
   },
   "source": [
    "### Utility Functions"
   ]
  },
  {
   "cell_type": "code",
   "execution_count": 3,
   "metadata": {},
   "outputs": [
    {
     "data": {
      "text/plain": [
       "InitialState (generic function with 1 method)"
      ]
     },
     "execution_count": 3,
     "metadata": {},
     "output_type": "execute_result"
    }
   ],
   "source": [
    "function InitialState(N)  # Generates an initial state with all values fixed to +1 and -1 ---OK\n",
    "    state = zeros(3, N, N)\n",
    "    for i in 1:N\n",
    "        for j in 1:N\n",
    "            state[1, i, j] = 1\n",
    "            state[2, i, j] = -1\n",
    "        end\n",
    "    end\n",
    "    return state\n",
    "end"
   ]
  },
  {
   "cell_type": "markdown",
   "metadata": {},
   "source": [
    "* Calculate the energy difference"
   ]
  },
  {
   "cell_type": "code",
   "execution_count": 4,
   "metadata": {},
   "outputs": [
    {
     "data": {
      "text/plain": [
       "calcEnergyDiff (generic function with 1 method)"
      ]
     },
     "execution_count": 4,
     "metadata": {},
     "output_type": "execute_result"
    }
   ],
   "source": [
    "function calcEnergyDiff(i, j, state)  # Calculate the energy at flipping the vertex at [i,j]\n",
    "    m = size(state, 2)\n",
    "    if i == 1\n",
    "        top = 1\n",
    "    else\n",
    "        top = state[i - 1, j]\n",
    "    end\n",
    "    if i == m\n",
    "        bottom = 1\n",
    "    else\n",
    "        bottom = state[i + 1, j]\n",
    "    end\n",
    "    if j == 1\n",
    "        left = 1\n",
    "    else\n",
    "        left = state[i, j - 1]\n",
    "    end\n",
    "            \n",
    "    if j == m\n",
    "        right = 1\n",
    "    else\n",
    "        right = state[i, j + 1]\n",
    "    end\n",
    "\n",
    "    energy = 2 * state[i,j] * sum([top, bottom, left, right])  # Energy calculated by given formula\n",
    "                \n",
    "    return energy\n",
    "end\n",
    "    \n"
   ]
  },
  {
   "cell_type": "markdown",
   "metadata": {},
   "source": [
    "* Update State for Ising Model"
   ]
  },
  {
   "cell_type": "code",
   "execution_count": 5,
   "metadata": {},
   "outputs": [
    {
     "data": {
      "text/plain": [
       "updateState (generic function with 1 method)"
      ]
     },
     "execution_count": 5,
     "metadata": {},
     "output_type": "execute_result"
    }
   ],
   "source": [
    "function updateState(t, state, U,T)\n",
    "    B = 1 / T\n",
    "    E = zeros(3)\n",
    "\n",
    "    i = Int(U[2,Int(-t)])  # Picks a random vertex, the same each time the chain runs from 0\n",
    "    j = Int(U[3,Int(-t)])\n",
    "    \n",
    "    for h in 1:3\n",
    "\n",
    "        E[h] =  calcEnergyDiff(i, j, state[h,:,:])  # Find energy under randomly generated flip of each state space separately\n",
    "\n",
    "        u = U[1,Int(-t)]\n",
    "        if state[h, i, j] == 1\n",
    "            u = 1 - u\n",
    "        end\n",
    "        \n",
    "        if u < 0.5 * (1 - tanh(0.5 * B * E[h]))  # condition to accept change, random number is the same each time\n",
    "            state[h, i, j] = -state[h, i, j]\n",
    "            #n[h]=1\n",
    "        else\n",
    "            state[h, i, j] = state[h, i, j]\n",
    "            #n[h]=0\n",
    "        end\n",
    "    end\n",
    "\n",
    "    return state  # returns both states\n",
    "end"
   ]
  },
  {
   "cell_type": "markdown",
   "metadata": {},
   "source": [
    "### Ising Model Function"
   ]
  },
  {
   "cell_type": "code",
   "execution_count": 6,
   "metadata": {},
   "outputs": [
    {
     "data": {
      "text/plain": [
       "runIsing (generic function with 1 method)"
      ]
     },
     "execution_count": 6,
     "metadata": {},
     "output_type": "execute_result"
    }
   ],
   "source": [
    "function runIsing(t, state, U, T)  # Runs chain from the designated starting time until time 0\n",
    "\n",
    "    while t < 0\n",
    "        state = updateState(t, state, U,T)\n",
    "        t += 1\n",
    "    end\n",
    "    return state\n",
    "end"
   ]
  },
  {
   "cell_type": "markdown",
   "metadata": {},
   "source": [
    "## Propp Wilson Algorithm"
   ]
  },
  {
   "cell_type": "markdown",
   "metadata": {},
   "source": [
    "<b>Introduction to Propp Wilson Algorithm</b>\n",
    "\n",
    "The propp-Wilson Algorithm solves two different problems\n",
    "* s' is distributed exactly π (\" perfect simulation \")\n",
    "* The algorithm <b>stops</b> automatically"
   ]
  },
  {
   "cell_type": "markdown",
   "metadata": {},
   "source": [
    "### Pseudocode of the algorithm:\n",
    "<b>1.</b> Set 𝑚 = 1\n",
    "\n",
    "<b>2.</b> For each 𝑠 ∈ 𝑆, simulate the Markov chain starting at time −𝑁𝑚 in state 𝑠 \n",
    "\n",
    "and running up to time 0 using the update function 𝜙 with the sequence 𝑈−𝑁𝑚 +1,𝑈−𝑁𝑚 +2, … ,𝑈−1,𝑈0\n",
    "\n",
    "<b>3.</b> If all 𝑘 chains end up in the same state s at time 0, output s and stop\n",
    "\n",
    "<b>4.</b> Set 𝑚: = 𝑚 + 1 and go to step 2\n",
    "\n",
    "<b>Note:</b> The same sequence 𝑈0,𝑈−1, … is used for all 𝑘 chains.\n",
    "\n",
    "\n",
    "<b>Functions in Propp Wilson Algorithm</b>\n",
    "* runProppWilson(N,j):\n",
    "* genRandomness(N,M): \n",
    "* genStartingTimes(j):"
   ]
  },
  {
   "cell_type": "markdown",
   "metadata": {},
   "source": [
    "``genRandomness(N,M)``: generates a sequence of i.i.d. random numbers for Propp-Wilson Algorithm\n",
    "````\n",
    "\n",
    "U0,U1,U2...\n",
    "\n",
    "````"
   ]
  },
  {
   "cell_type": "code",
   "execution_count": 7,
   "metadata": {},
   "outputs": [
    {
     "data": {
      "text/plain": [
       "genRandomness (generic function with 1 method)"
      ]
     },
     "execution_count": 7,
     "metadata": {},
     "output_type": "execute_result"
    }
   ],
   "source": [
    "function genRandomness(N, M)  # generate and store three sets of random numbers\n",
    "    U = zeros(3, M)\n",
    "\n",
    "    U[2,:] = rand(1:N, M) # Random numbners i\n",
    "    U[3,:] = rand(1:N, M)  # Random numbners j\n",
    "    for i in 1:M\n",
    "        U[1,i] = rand()  # Random numbners U\n",
    "    end\n",
    "    return U\n",
    "end"
   ]
  },
  {
   "cell_type": "markdown",
   "metadata": {},
   "source": [
    "* Generate starting times\n",
    "\n",
    "``genStartingTimes(j)``: to generate the starting times, the function generates the sequence of the positive numbers like (N1,N2...) = (1,2,4,8)"
   ]
  },
  {
   "cell_type": "code",
   "execution_count": 8,
   "metadata": {},
   "outputs": [
    {
     "data": {
      "text/plain": [
       "genStartingTimes (generic function with 1 method)"
      ]
     },
     "execution_count": 8,
     "metadata": {},
     "output_type": "execute_result"
    }
   ],
   "source": [
    "function genStartingTimes(j)  # Creates starting times, each one is double the previous\n",
    "    M = zeros(j)\n",
    "    M[2] = 1\n",
    "    for x in 3:j\n",
    "        M[x] = 2 * M[x - 1]\n",
    "    end       \n",
    "    return M\n",
    "end"
   ]
  },
  {
   "cell_type": "markdown",
   "metadata": {},
   "source": [
    "\n",
    "* Propp Wilson Algorithm call the Ising model to run chain from the designated starting time until time 0 after each magnetization\n",
    " "
   ]
  },
  {
   "cell_type": "code",
   "execution_count": 9,
   "metadata": {},
   "outputs": [
    {
     "data": {
      "text/plain": [
       "runProppWilson (generic function with 1 method)"
      ]
     },
     "execution_count": 9,
     "metadata": {},
     "output_type": "execute_result"
    }
   ],
   "source": [
    "function runProppWilson(N,j,T)\n",
    "    M = genStartingTimes(j)# negative integers (-1,-2,-4,-8)\n",
    "    U = genRandomness(N, 1)# U0,U1,U2...\n",
    "    state = InitialState(N)\n",
    "    m=2\n",
    "    while state[1,:,:] != state[2,:,:]  # Condition for termination: both state spaces are the same\n",
    "        U = hcat(U,genRandomness(N, Int(M[m] - M[m-1]))) # Generates more random numbers when necessary\n",
    "        \n",
    "        magnetization = sum([sum(i) for i in state[1,:,:]])-sum([sum(i) for i in state[2,:,:]])\n",
    "        \n",
    "        println(\"magnetization= \",magnetization, \"round= \", m)\n",
    "        state = runIsing(-Int(M[m]), state,U, T)\n",
    "        m += 1  # If states are not the same, goes to the next starting time\n",
    "        \n",
    "    end\n",
    "    return state[1,:,:]\n",
    "end"
   ]
  },
  {
   "cell_type": "markdown",
   "metadata": {},
   "source": [
    "## Graph ##"
   ]
  },
  {
   "cell_type": "markdown",
   "metadata": {},
   "source": [
    "* Main Program  and Visualisation of the Result\n",
    "* This Graph function below call the ProppWilson Algorithm.\n"
   ]
  },
  {
   "cell_type": "code",
   "execution_count": 10,
   "metadata": {},
   "outputs": [
    {
     "data": {
      "text/plain": [
       "visualizeMagnetization (generic function with 1 method)"
      ]
     },
     "execution_count": 10,
     "metadata": {},
     "output_type": "execute_result"
    }
   ],
   "source": [
    "function visualizeMagnetization(magnetization)\n",
    "    step = 1:30;\n",
    "    plot(magnetization,step )\n",
    "end"
   ]
  },
  {
   "cell_type": "code",
   "execution_count": 13,
   "metadata": {},
   "outputs": [
    {
     "name": "stdout",
     "output_type": "stream",
     "text": [
      "magnetization= 200.0round= 2\n",
      "magnetization= 200.0round= 3\n",
      "magnetization= 200.0round= 4\n",
      "magnetization= 200.0round= 5\n",
      "magnetization= 200.0round= 6\n",
      "magnetization= 200.0round= 7\n",
      "magnetization= 198.0round= 8\n",
      "magnetization= 194.0round= 9\n",
      "magnetization= 190.0round= 10\n",
      "magnetization= 176.0round= 11\n",
      "magnetization= 160.0round= 12\n",
      "magnetization= 138.0round= 13\n",
      "magnetization= 60.0round= 14\n"
     ]
    },
    {
     "data": {
      "text/plain": [
       "10×10 Array{Float64,2}:\n",
       " 1.0  1.0  -1.0  1.0   1.0  1.0  1.0  1.0  1.0   1.0\n",
       " 1.0  1.0   1.0  1.0   1.0  1.0  1.0  1.0  1.0   1.0\n",
       " 1.0  1.0   1.0  1.0   1.0  1.0  1.0  1.0  1.0   1.0\n",
       " 1.0  1.0  -1.0  1.0   1.0  1.0  1.0  1.0  1.0   1.0\n",
       " 1.0  1.0   1.0  1.0   1.0  1.0  1.0  1.0  1.0   1.0\n",
       " 1.0  1.0   1.0  1.0   1.0  1.0  1.0  1.0  1.0   1.0\n",
       " 1.0  1.0   1.0  1.0   1.0  1.0  1.0  1.0  1.0   1.0\n",
       " 1.0  1.0   1.0  1.0   1.0  1.0  1.0  1.0  1.0   1.0\n",
       " 1.0  1.0   1.0  1.0  -1.0  1.0  1.0  1.0  1.0   1.0\n",
       " 1.0  1.0   1.0  1.0   1.0  1.0  1.0  1.0  1.0  -1.0"
      ]
     },
     "execution_count": 13,
     "metadata": {},
     "output_type": "execute_result"
    }
   ],
   "source": [
    "state = runProppWilson(10, 20,2)"
   ]
  },
  {
   "cell_type": "code",
   "execution_count": null,
   "metadata": {},
   "outputs": [],
   "source": []
  },
  {
   "cell_type": "code",
   "execution_count": 11,
   "metadata": {},
   "outputs": [
    {
     "data": {
      "text/plain": [
       "Graph (generic function with 1 method)"
      ]
     },
     "execution_count": 11,
     "metadata": {},
     "output_type": "execute_result"
    }
   ],
   "source": [
    "function Graph(N, j, T)\n",
    "    state = runProppWilson(N, j,T)\n",
    "    S = size(state)[2]\n",
    "    for i in 1:S\n",
    "        for j in 1:S\n",
    "            if state[i,j] == 1  # Graphs a red + if the matrix entry is positive\n",
    "                println(\"+1\")\n",
    "            elseif state[i,j] == -1# blue - if the matrix entry is negative\n",
    "                println(\"-1\")\n",
    "            end\n",
    "        end\n",
    "    end\n",
    "end\n"
   ]
  },
  {
   "cell_type": "markdown",
   "metadata": {},
   "source": [
    "* Show Results\n",
    "Run the program with the parameter below."
   ]
  },
  {
   "cell_type": "code",
   "execution_count": 12,
   "metadata": {},
   "outputs": [
    {
     "name": "stdout",
     "output_type": "stream",
     "text": [
      "magnetization= 200.0round= 2\n",
      "magnetization= 200.0round= 3\n",
      "magnetization= 200.0round= 4\n",
      "magnetization= 198.0round= 5\n",
      "magnetization= 198.0round= 6\n",
      "magnetization= 198.0round= 7\n",
      "magnetization= 196.0round= 8\n",
      "magnetization= 188.0round= 9\n",
      "magnetization= 176.0round= 10\n",
      "magnetization= 144.0round= 11\n",
      "magnetization= 122.0round= 12\n",
      "magnetization= 86.0round= 13\n",
      "magnetization= 44.0round= 14\n",
      "+1\n",
      "+1\n",
      "+1\n",
      "+1\n",
      "+1\n",
      "+1\n",
      "+1\n",
      "+1\n",
      "+1\n",
      "+1\n",
      "+1\n",
      "+1\n",
      "+1\n",
      "+1\n",
      "+1\n",
      "+1\n",
      "+1\n",
      "+1\n",
      "+1\n",
      "+1\n",
      "+1\n",
      "+1\n",
      "+1\n",
      "+1\n",
      "+1\n",
      "+1\n",
      "+1\n",
      "+1\n",
      "+1\n",
      "+1\n",
      "+1\n",
      "+1\n",
      "+1\n",
      "+1\n",
      "+1\n",
      "+1\n",
      "+1\n",
      "+1\n",
      "+1\n",
      "+1\n",
      "+1\n",
      "+1\n",
      "+1\n",
      "+1\n",
      "+1\n",
      "+1\n",
      "+1\n",
      "+1\n",
      "+1\n",
      "+1\n",
      "+1\n",
      "+1\n",
      "+1\n",
      "+1\n",
      "+1\n",
      "+1\n",
      "+1\n",
      "+1\n",
      "+1\n",
      "+1\n",
      "-1\n",
      "-1\n",
      "+1\n",
      "+1\n",
      "+1\n",
      "+1\n",
      "+1\n",
      "+1\n",
      "+1\n",
      "+1\n",
      "-1\n",
      "+1\n",
      "+1\n",
      "+1\n",
      "+1\n",
      "+1\n",
      "+1\n",
      "+1\n",
      "+1\n",
      "+1\n",
      "+1\n",
      "+1\n",
      "+1\n",
      "+1\n",
      "+1\n",
      "+1\n",
      "+1\n",
      "+1\n",
      "+1\n",
      "+1\n",
      "+1\n",
      "+1\n",
      "+1\n",
      "+1\n",
      "+1\n",
      "+1\n",
      "-1\n",
      "+1\n",
      "+1\n",
      "+1\n"
     ]
    }
   ],
   "source": [
    "T = 2\n",
    "Graph(10,20,T)"
   ]
  },
  {
   "cell_type": "code",
   "execution_count": null,
   "metadata": {},
   "outputs": [],
   "source": []
  },
  {
   "cell_type": "code",
   "execution_count": null,
   "metadata": {},
   "outputs": [],
   "source": []
  }
 ],
 "metadata": {
  "kernelspec": {
   "display_name": "Julia 1.1.0",
   "language": "julia",
   "name": "julia-1.1"
  },
  "language_info": {
   "file_extension": ".jl",
   "mimetype": "application/julia",
   "name": "julia",
   "version": "1.1.0"
  }
 },
 "nbformat": 4,
 "nbformat_minor": 2
}
