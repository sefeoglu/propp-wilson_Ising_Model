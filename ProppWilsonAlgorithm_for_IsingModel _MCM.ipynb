{
 "cells": [
  {
   "cell_type": "markdown",
   "metadata": {},
   "source": [
    "## The Ferromagnetic Ising model ##"
   ]
  },
  {
   "cell_type": "markdown",
   "metadata": {},
   "source": [
    "* Libraries"
   ]
  },
  {
   "cell_type": "code",
   "execution_count": 8,
   "metadata": {},
   "outputs": [
    {
     "name": "stdout",
     "output_type": "stream",
     "text": [
      "\u001b[32m\u001b[1m  Updating\u001b[22m\u001b[39m registry at `~/.julia/registries/General`\n",
      "\u001b[32m\u001b[1m  Updating\u001b[22m\u001b[39m git-repo `https://github.com/JuliaRegistries/General.git`\n",
      "\u001b[?25l\u001b[2K\u001b[?25h\u001b[32m\u001b[1m Resolving\u001b[22m\u001b[39m package versions...\n"
     ]
    }
   ],
   "source": [
    "using Pkg; Pkg.activate(\".\"); Pkg.instantiate()"
   ]
  },
  {
   "cell_type": "code",
   "execution_count": 9,
   "metadata": {},
   "outputs": [
    {
     "name": "stderr",
     "output_type": "stream",
     "text": [
      "┌ Info: Recompiling stale cache file /home/sefika/.julia/compiled/v1.1/Plots/ld3vC.ji for Plots [91a5bcdd-55d7-5caf-9e0b-520d859cae80]\n",
      "└ @ Base loading.jl:1184\n",
      "┌ Info: Recompiling stale cache file /home/sefika/.julia/compiled/v1.1/PyPlot/oatAj.ji for PyPlot [d330b81b-6aea-500a-939a-2ce795aea3ee]\n",
      "└ @ Base loading.jl:1184\n"
     ]
    }
   ],
   "source": [
    "using Distributions, LinearAlgebra\n",
    "using Plots; pyplot(); default(legendfontsize = 15.0, linewidth = 2.0)"
   ]
  },
  {
   "cell_type": "code",
   "execution_count": null,
   "metadata": {
    "scrolled": true
   },
   "outputs": [],
   "source": []
  },
  {
   "cell_type": "code",
   "execution_count": 42,
   "metadata": {},
   "outputs": [
    {
     "data": {
      "text/plain": [
       "InitialState (generic function with 1 method)"
      ]
     },
     "execution_count": 42,
     "metadata": {},
     "output_type": "execute_result"
    }
   ],
   "source": [
    "function InitialState(N)  # Generates an initial state with all values fixed to +1 and -1\n",
    "    state = zeros(2, N, N)\n",
    "    for i in 1:N\n",
    "        for j in 1:N\n",
    "            state[1, i, j] = 1\n",
    "            state[2, i, j] = -1\n",
    "        end\n",
    "    end\n",
    "    return state\n",
    "end"
   ]
  },
  {
   "cell_type": "markdown",
   "metadata": {},
   "source": [
    "* Calculate the energy difference"
   ]
  },
  {
   "cell_type": "code",
   "execution_count": 44,
   "metadata": {},
   "outputs": [
    {
     "data": {
      "text/plain": [
       "calcEnergyDiff (generic function with 1 method)"
      ]
     },
     "execution_count": 44,
     "metadata": {},
     "output_type": "execute_result"
    }
   ],
   "source": [
    "function calcEnergyDiff(i, j, state)  # Calculate the energy at flipping the vertex at [i,j]\n",
    "    m = state.shape[1] - 1\n",
    "    if i == 0\n",
    "        top = 0\n",
    "    else\n",
    "        top = state[i - 1, j]\n",
    "        end \n",
    "    if i == m\n",
    "        bottom = 0\n",
    "    else\n",
    "        bottom = state[i + 1, j]\n",
    "    end\n",
    "    if j == 0\n",
    "        left = 0\n",
    "    else\n",
    "        left = state[i, j - 1]\n",
    "        end \n",
    "            \n",
    "    if j == m\n",
    "        right = 0\n",
    "    else\n",
    "        right = state[i, j + 1]\n",
    "    energy = 2 * state[i,j] * sum([top, bottom, left, right])  # Energy calculated by given formula\n",
    "    end\n",
    "                \n",
    "    return energy\n",
    "    end \n"
   ]
  },
  {
   "cell_type": "markdown",
   "metadata": {},
   "source": [
    "* Update State for Ising Model"
   ]
  },
  {
   "cell_type": "code",
   "execution_count": 46,
   "metadata": {},
   "outputs": [
    {
     "data": {
      "text/plain": [
       "updateState (generic function with 1 method)"
      ]
     },
     "execution_count": 46,
     "metadata": {},
     "output_type": "execute_result"
    }
   ],
   "source": [
    "function updateState(t, state, U)\n",
    "    B = 1 / T\n",
    "    E = np.zeros(2)\n",
    "    i = int(U[1][-t])  # Picks a random vertex, the same each time the chain runs from 0\n",
    "    j = int(U[2][-t])\n",
    "    for h in range(2)\n",
    "        E[h] =  calcEnergyDiff(i, j, state[h])  # Find energy under randomly generated flip of each state space separately\n",
    "        u = U[0][-t]\n",
    "        if state[h][i][j] == 1\n",
    "            u = 1 - u\n",
    "        end\n",
    "        if u < 0.5 * (1 - np.tanh(0.5 * B * E[h]))  # condition to accept change, random number is the same each time\n",
    "            state[h][i][j] = -state[h][i][j]\n",
    "            #n[h]=1\n",
    "        else\n",
    "            state[h][i][j] = state[h][i][j]\n",
    "            #n[h]=0\n",
    "    end\n",
    "\n",
    "    if state[0][i][j] < state[1][i][j]\n",
    "        exit(1)\n",
    "        end\n",
    "    end\n",
    "\n",
    "    return state  # returns both states\n",
    "end"
   ]
  },
  {
   "cell_type": "markdown",
   "metadata": {},
   "source": [
    "* Run Ising Model"
   ]
  },
  {
   "cell_type": "code",
   "execution_count": 49,
   "metadata": {},
   "outputs": [
    {
     "data": {
      "text/plain": [
       "runIsing (generic function with 1 method)"
      ]
     },
     "execution_count": 49,
     "metadata": {},
     "output_type": "execute_result"
    }
   ],
   "source": [
    "function runIsing(t, state, U)  # Runs chain from the designated starting time until time 0\n",
    "    while t <= 0\n",
    "        #print(\"h=0\",state[0])\n",
    "        #print(\"h=1\",state[1]\n",
    "        state = updateState(t, state, U)\n",
    "        t += 1\n",
    "    return state\n",
    "    end\n",
    "end"
   ]
  },
  {
   "cell_type": "markdown",
   "metadata": {},
   "source": [
    "## Propp Wilson Algorithm"
   ]
  },
  {
   "cell_type": "markdown",
   "metadata": {},
   "source": [
    "* Generate and store random numbers"
   ]
  },
  {
   "cell_type": "code",
   "execution_count": 51,
   "metadata": {},
   "outputs": [
    {
     "data": {
      "text/plain": [
       "genRandomness (generic function with 1 method)"
      ]
     },
     "execution_count": 51,
     "metadata": {},
     "output_type": "execute_result"
    }
   ],
   "source": [
    "function genRandomness(N, M)  # generate and store three sets of random numbers\n",
    "    U = zeros((3, M))\n",
    "    U[1] = rand(N, size=M)  # Random numbners i\n",
    "    U[2] = rand(N, size=M)  # Random numbners j\n",
    "    for i in 1:M\n",
    "        U[0][i] = random()  # Random numbners U\n",
    "    end\n",
    "    return U\n",
    "end"
   ]
  },
  {
   "cell_type": "markdown",
   "metadata": {},
   "source": [
    "* Generate starting times"
   ]
  },
  {
   "cell_type": "code",
   "execution_count": 53,
   "metadata": {},
   "outputs": [
    {
     "data": {
      "text/plain": [
       "genStartingTimes (generic function with 1 method)"
      ]
     },
     "execution_count": 53,
     "metadata": {},
     "output_type": "execute_result"
    }
   ],
   "source": [
    "function genStartingTimes(j)  # Creates starting times, each one is double the previous\n",
    "    M = [0] * j\n",
    "    M[1] = 1\n",
    "    for x in 3:j\n",
    "        M[x] = 2 * M[x - 1] \n",
    "    return M\n",
    "    end\n",
    "end"
   ]
  },
  {
   "cell_type": "markdown",
   "metadata": {},
   "source": [
    "* Propp Wilson Algorithm"
   ]
  },
  {
   "cell_type": "code",
   "execution_count": 55,
   "metadata": {},
   "outputs": [
    {
     "data": {
      "text/plain": [
       "proppWilson (generic function with 1 method)"
      ]
     },
     "execution_count": 55,
     "metadata": {},
     "output_type": "execute_result"
    }
   ],
   "source": [
    "function proppWilson(N,j)\n",
    "    M = genStartingTimes(j)\n",
    "    U = genRandomness(N, 1)\n",
    "    state = InitialState(N)\n",
    "    m=1\n",
    "    while state[0] != state[1]  # Condition for termination: both state spaces are the same\n",
    "        U = np.append(U, genRandomness(N, M[m] - M[m - 1]), 1)  # Generates more random numbers when necessary\n",
    "        magnetization = sum([sum(i) for i in state[0]])-sum([sum(i) for i in state[1]])\n",
    "        println(\"magnetization= \",magnetization, \"round= \", m)\n",
    "        state = runIsing(-M[m], state, U)\n",
    "        m += 1  # If states are not the same, goes to the next starting time\n",
    "        end \n",
    "    return state[0]\n",
    "end"
   ]
  },
  {
   "cell_type": "code",
   "execution_count": null,
   "metadata": {},
   "outputs": [],
   "source": []
  }
 ],
 "metadata": {
  "kernelspec": {
   "display_name": "Julia 1.1.0",
   "language": "julia",
   "name": "julia-1.1"
  },
  "language_info": {
   "file_extension": ".jl",
   "mimetype": "application/julia",
   "name": "julia",
   "version": "1.1.0"
  }
 },
 "nbformat": 4,
 "nbformat_minor": 2
}
